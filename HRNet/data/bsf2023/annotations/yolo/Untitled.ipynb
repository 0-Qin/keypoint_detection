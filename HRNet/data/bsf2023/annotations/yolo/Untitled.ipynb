{
 "cells": [
  {
   "cell_type": "code",
   "execution_count": 6,
   "id": "cc65fcc2-0088-4d7e-a6b4-52e5bcf8457d",
   "metadata": {},
   "outputs": [
    {
     "name": "stderr",
     "output_type": "stream",
     "text": [
      "Annotations /home/hope/R&D_Pro/HRNet/data/bsf2023/annotations/yolo/coco_train_cat0_superclean.json:   0%|          | 0/1246 [00:00<?, ?it/s]\n"
     ]
    },
    {
     "ename": "TypeError",
     "evalue": "must be real number, not NoneType",
     "output_type": "error",
     "traceback": [
      "\u001b[0;31m---------------------------------------------------------------------------\u001b[0m",
      "\u001b[0;31mTypeError\u001b[0m                                 Traceback (most recent call last)",
      "Cell \u001b[0;32mIn[6], line 4\u001b[0m\n\u001b[1;32m      1\u001b[0m \u001b[38;5;28;01mfrom\u001b[39;00m\u001b[38;5;250m \u001b[39m\u001b[38;5;21;01multralytics\u001b[39;00m\u001b[38;5;21;01m.\u001b[39;00m\u001b[38;5;21;01mdata\u001b[39;00m\u001b[38;5;21;01m.\u001b[39;00m\u001b[38;5;21;01mconverter\u001b[39;00m\u001b[38;5;250m \u001b[39m\u001b[38;5;28;01mimport\u001b[39;00m convert_coco\n\u001b[1;32m      3\u001b[0m \u001b[38;5;66;03m# 转换COCO关键点为YOLOv8格式，含关键点（pose）！\u001b[39;00m\n\u001b[0;32m----> 4\u001b[0m \u001b[43mconvert_coco\u001b[49m\u001b[43m(\u001b[49m\u001b[43mlabels_dir\u001b[49m\u001b[38;5;241;43m=\u001b[39;49m\u001b[38;5;124;43m\"\u001b[39;49m\u001b[38;5;124;43m../yolo\u001b[39;49m\u001b[38;5;124;43m\"\u001b[39;49m\u001b[43m,\u001b[49m\u001b[43m \u001b[49m\u001b[43muse_keypoints\u001b[49m\u001b[38;5;241;43m=\u001b[39;49m\u001b[38;5;28;43;01mTrue\u001b[39;49;00m\u001b[43m)\u001b[49m\n",
      "File \u001b[0;32m~/.conda-2024.02/envs/yolo/lib/python3.8/site-packages/ultralytics/data/converter.py:339\u001b[0m, in \u001b[0;36mconvert_coco\u001b[0;34m(labels_dir, save_dir, use_segments, use_keypoints, cls91to80, lvis)\u001b[0m\n\u001b[1;32m    335\u001b[0m             \u001b[38;5;28;01melse\u001b[39;00m:\n\u001b[1;32m    336\u001b[0m                 line \u001b[38;5;241m=\u001b[39m (\n\u001b[1;32m    337\u001b[0m                     \u001b[38;5;241m*\u001b[39m(segments[i] \u001b[38;5;28;01mif\u001b[39;00m use_segments \u001b[38;5;129;01mand\u001b[39;00m \u001b[38;5;28mlen\u001b[39m(segments[i]) \u001b[38;5;241m>\u001b[39m \u001b[38;5;241m0\u001b[39m \u001b[38;5;28;01melse\u001b[39;00m bboxes[i]),\n\u001b[1;32m    338\u001b[0m                 )  \u001b[38;5;66;03m# cls, box or segments\u001b[39;00m\n\u001b[0;32m--> 339\u001b[0m             file\u001b[38;5;241m.\u001b[39mwrite(\u001b[43m(\u001b[49m\u001b[38;5;124;43m\"\u001b[39;49m\u001b[38;5;132;43;01m%g\u001b[39;49;00m\u001b[38;5;124;43m \u001b[39;49m\u001b[38;5;124;43m\"\u001b[39;49m\u001b[43m \u001b[49m\u001b[38;5;241;43m*\u001b[39;49m\u001b[43m \u001b[49m\u001b[38;5;28;43mlen\u001b[39;49m\u001b[43m(\u001b[49m\u001b[43mline\u001b[49m\u001b[43m)\u001b[49m\u001b[43m)\u001b[49m\u001b[38;5;241;43m.\u001b[39;49m\u001b[43mrstrip\u001b[49m\u001b[43m(\u001b[49m\u001b[43m)\u001b[49m\u001b[43m \u001b[49m\u001b[38;5;241;43m%\u001b[39;49m\u001b[43m \u001b[49m\u001b[43mline\u001b[49m \u001b[38;5;241m+\u001b[39m \u001b[38;5;124m\"\u001b[39m\u001b[38;5;130;01m\\n\u001b[39;00m\u001b[38;5;124m\"\u001b[39m)\n\u001b[1;32m    341\u001b[0m \u001b[38;5;28;01mif\u001b[39;00m lvis:\n\u001b[1;32m    342\u001b[0m     filename \u001b[38;5;241m=\u001b[39m Path(save_dir) \u001b[38;5;241m/\u001b[39m json_file\u001b[38;5;241m.\u001b[39mname\u001b[38;5;241m.\u001b[39mreplace(\u001b[38;5;124m\"\u001b[39m\u001b[38;5;124mlvis_v1_\u001b[39m\u001b[38;5;124m\"\u001b[39m, \u001b[38;5;124m\"\u001b[39m\u001b[38;5;124m\"\u001b[39m)\u001b[38;5;241m.\u001b[39mreplace(\u001b[38;5;124m\"\u001b[39m\u001b[38;5;124m.json\u001b[39m\u001b[38;5;124m\"\u001b[39m, \u001b[38;5;124m\"\u001b[39m\u001b[38;5;124m.txt\u001b[39m\u001b[38;5;124m\"\u001b[39m)\n",
      "\u001b[0;31mTypeError\u001b[0m: must be real number, not NoneType"
     ]
    }
   ],
   "source": [
    "from ultralytics.data.converter import convert_coco\n",
    "\n",
    "# 转换COCO关键点为YOLOv8格式，含关键点（pose）！\n",
    "convert_coco(labels_dir=\"../yolo\", use_keypoints=True)\n"
   ]
  },
  {
   "cell_type": "code",
   "execution_count": 4,
   "id": "85f20b18-a66e-4b54-82e7-5cdadfdd7eb9",
   "metadata": {},
   "outputs": [
    {
     "name": "stdout",
     "output_type": "stream",
     "text": [
      "清洗完毕，已保存新json！\n"
     ]
    }
   ],
   "source": [
    "import json\n",
    "import math\n",
    "\n",
    "json_path = '../yolo/coco_train_cat0.json'\n",
    "with open(json_path) as f:\n",
    "    data = json.load(f)\n",
    "\n",
    "def has_non_number(x):\n",
    "    # 检查nan、None、字符串等非法数值\n",
    "    if x is None:\n",
    "        return True\n",
    "    if isinstance(x, float) and (math.isnan(x) or math.isinf(x)):\n",
    "        return True\n",
    "    return not isinstance(x, (int, float))\n",
    "\n",
    "clean_anns = []\n",
    "for ann in data['annotations']:\n",
    "    # 检查bbox合法\n",
    "    bbox_ok = (\n",
    "        'bbox' in ann and\n",
    "        isinstance(ann['bbox'], list) and\n",
    "        len(ann['bbox']) == 4 and\n",
    "        all(not has_non_number(x) for x in ann['bbox'])\n",
    "    )\n",
    "    # 检查keypoints合法\n",
    "    kp_ok = (\n",
    "        'keypoints' in ann and\n",
    "        isinstance(ann['keypoints'], list) and\n",
    "        all(not has_non_number(x) for x in ann['keypoints'])\n",
    "    )\n",
    "    # 检查其它字段也无None\n",
    "    others_ok = all(v is not None for k, v in ann.items() if k not in ['bbox', 'keypoints'])\n",
    "    if bbox_ok and kp_ok and others_ok:\n",
    "        clean_anns.append(ann)\n",
    "    else:\n",
    "        print(\"丢弃有问题的标注：\", ann)\n",
    "\n",
    "data['annotations'] = clean_anns\n",
    "with open(json_path.replace('.json', '_superclean.json'), 'w') as f:\n",
    "    json.dump(data, f)\n",
    "print('清洗完毕，已保存新json！')\n"
   ]
  }
 ],
 "metadata": {
  "kernelspec": {
   "display_name": "Python [conda env:.conda-2024.02-yolo]",
   "language": "python",
   "name": "conda-env-.conda-2024.02-yolo-py"
  },
  "language_info": {
   "codemirror_mode": {
    "name": "ipython",
    "version": 3
   },
   "file_extension": ".py",
   "mimetype": "text/x-python",
   "name": "python",
   "nbconvert_exporter": "python",
   "pygments_lexer": "ipython3",
   "version": "3.8.20"
  }
 },
 "nbformat": 4,
 "nbformat_minor": 5
}
