{
 "cells": [
  {
   "cell_type": "code",
   "execution_count": 4,
   "id": "520e4ca0-792a-400e-b75b-40b65405c587",
   "metadata": {},
   "outputs": [
    {
     "name": "stdout",
     "output_type": "stream",
     "text": [
      "COCO JSON有但val目录没有的图片： set()\n",
      "val目录有但COCO JSON没有的图片： {'.ipynb_checkpoints', 'Untitled.ipynb'}\n"
     ]
    }
   ],
   "source": [
    "import os\n",
    "import json\n",
    "\n",
    "with open(\"../annotations/coco_val.json\") as f:\n",
    "    val_data = json.load(f)\n",
    "\n",
    "img_names_json = set(x['file_name'] for x in val_data['images'])\n",
    "img_names_dir = set(os.listdir(\"../val\"))  # 路径根据你的实际结构调整\n",
    "\n",
    "not_in_dir = img_names_json - img_names_dir\n",
    "not_in_json = img_names_dir - img_names_json\n",
    "\n",
    "print(\"COCO JSON有但val目录没有的图片：\", not_in_dir)\n",
    "print(\"val目录有但COCO JSON没有的图片：\", not_in_json)\n"
   ]
  }
 ],
 "metadata": {
  "kernelspec": {
   "display_name": "Python [conda env:.conda-2024.02-python3.7]",
   "language": "python",
   "name": "conda-env-.conda-2024.02-python3.7-py"
  },
  "language_info": {
   "codemirror_mode": {
    "name": "ipython",
    "version": 3
   },
   "file_extension": ".py",
   "mimetype": "text/x-python",
   "name": "python",
   "nbconvert_exporter": "python",
   "pygments_lexer": "ipython3",
   "version": "3.7.12"
  }
 },
 "nbformat": 4,
 "nbformat_minor": 5
}
