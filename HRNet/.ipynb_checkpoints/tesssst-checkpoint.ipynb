{
 "cells": [
  {
   "cell_type": "code",
   "execution_count": 1,
   "id": "64219217-47c7-4fd8-a7e2-a766714e81a4",
   "metadata": {},
   "outputs": [
    {
     "name": "stdout",
     "output_type": "stream",
     "text": [
      "/home/hope/R&D_Pro/HRNet\n"
     ]
    }
   ],
   "source": [
    "from pycocotools.coco import COCO\n",
    "import os\n",
    "print(os.getcwd())"
   ]
  },
  {
   "cell_type": "code",
   "execution_count": 2,
   "id": "2e7c5e9b-0cc2-416b-b888-fa6d6923ca18",
   "metadata": {},
   "outputs": [
    {
     "name": "stdout",
     "output_type": "stream",
     "text": [
      "/home/hope/R&D_Pro/HRNet\n",
      "loading annotations into memory...\n",
      "Done (t=0.00s)\n",
      "creating index...\n",
      "index created!\n",
      "关键点个数： 2\n",
      "关键点原始数据： [2507.41, 1778.82, 2, 2560.35, 914.12, 2]\n"
     ]
    }
   ],
   "source": [
    "from pycocotools.coco import COCO\n",
    "import os\n",
    "print(os.getcwd())\n",
    "\n",
    "val_coco = COCO(\"./data/bsf2023/annotations/coco_val.json\")\n",
    "\n",
    "# 看一下一个样本的 keypoints数量\n",
    "ann_id = val_coco.getAnnIds()[0]\n",
    "ann = val_coco.loadAnns(ann_id)[0]\n",
    "\n",
    "print(\"关键点个数：\", len(ann[\"keypoints\"]) // 3)\n",
    "print(\"关键点原始数据：\", ann[\"keypoints\"])\n"
   ]
  },
  {
   "cell_type": "code",
   "execution_count": 3,
   "id": "d156846a-f9cb-48a4-bf51-74cbf6d7aa1f",
   "metadata": {},
   "outputs": [
    {
     "name": "stdout",
     "output_type": "stream",
     "text": [
      "/home/hope/.conda-2024.02/envs/python3.7/lib/python3.7/site-packages/pycocotools/__init__.py\n"
     ]
    }
   ],
   "source": [
    "import pycocotools\n",
    "print(pycocotools.__file__)"
   ]
  },
  {
   "cell_type": "code",
   "execution_count": 5,
   "id": "6a948af6-261e-464b-9a38-a8f4cab4fa44",
   "metadata": {},
   "outputs": [
    {
     "name": "stdout",
     "output_type": "stream",
     "text": [
      "✅ Saved: ./bbox_vis/2023-07-10-15-12-29.jpg\n",
      "✅ Saved: ./bbox_vis/2023-07-10-15-14-33.jpg\n",
      "\n",
      "🎯 所有bbox可视化完成！请到 bbox_vis/ 文件夹中查看。\n"
     ]
    }
   ],
   "source": [
    "import os\n",
    "import json\n",
    "import cv2\n",
    "import matplotlib.pyplot as plt\n",
    "\n",
    "# 配置\n",
    "coco_json_path = \"./coco_val_test.json\"     # 你的coco标注文件\n",
    "image_root = \"./data/bsf2023/train\"    # 原图所在文件夹\n",
    "save_dir = \"./bbox_vis\"                 # 可视化图片输出文件夹\n",
    "draw_bbox = True                           # 是否在crop上画bbox（True画，False不画）\n",
    "\n",
    "os.makedirs(save_dir, exist_ok=True)\n",
    "\n",
    "# 加载 COCO 标注\n",
    "with open(coco_json_path, 'r') as f:\n",
    "    coco = json.load(f)\n",
    "\n",
    "# 建立 image_id 到 file_name 的映射\n",
    "id2name = {img[\"id\"]: img[\"file_name\"] for img in coco[\"images\"]}\n",
    "\n",
    "# 遍历每个标注\n",
    "for ann_id, ann in enumerate(coco[\"annotations\"]):\n",
    "    image_id = ann[\"image_id\"]\n",
    "    bbox = ann[\"bbox\"]  # [x_min, y_min, width, height]\n",
    "\n",
    "    image_path = os.path.join(image_root, id2name[image_id])\n",
    "    img = cv2.imread(image_path)\n",
    "\n",
    "    if img is None:\n",
    "        print(f\"⚠️ Warning: {image_path} not found, skip.\")\n",
    "        continue\n",
    "\n",
    "    # bbox 信息\n",
    "    x, y, w, h = bbox\n",
    "    x1, y1, x2, y2 = int(x), int(y), int(x + w), int(y + h)\n",
    "\n",
    "    # 防止超出图像边界\n",
    "    x1 = max(x1, 0)\n",
    "    y1 = max(y1, 0)\n",
    "    x2 = min(x2, img.shape[1] - 1)\n",
    "    y2 = min(y2, img.shape[0] - 1)\n",
    "\n",
    "    # 裁剪 bbox 区域\n",
    "    crop = img[y1:y2, x1:x2]\n",
    "\n",
    "    if draw_bbox:\n",
    "        # 在 crop 上画一个小bbox边框，方便验证\n",
    "        cv2.rectangle(crop, (0, 0), (crop.shape[1] - 1, crop.shape[0] - 1), (0, 255, 0), thickness=2)\n",
    "\n",
    "    # 保存\n",
    "    save_crop_path = os.path.join(save_dir, f\"{id2name[image_id].split('.')[0]}_ann{ann_id}.jpg\")\n",
    "    cv2.imwrite(save_crop_path, crop)\n",
    "    print(f\"✅ Saved cropped image: {save_crop_path}\")\n",
    "\n",
    "print(\"\\n🎯 所有bbox裁剪完成！请到 bbox_crops/ 目录查看。\")"
   ]
  }
 ],
 "metadata": {
  "kernelspec": {
   "display_name": "Python [conda env:.conda-2024.02-python3.7]",
   "language": "python",
   "name": "conda-env-.conda-2024.02-python3.7-py"
  },
  "language_info": {
   "codemirror_mode": {
    "name": "ipython",
    "version": 3
   },
   "file_extension": ".py",
   "mimetype": "text/x-python",
   "name": "python",
   "nbconvert_exporter": "python",
   "pygments_lexer": "ipython3",
   "version": "3.7.12"
  }
 },
 "nbformat": 4,
 "nbformat_minor": 5
}
